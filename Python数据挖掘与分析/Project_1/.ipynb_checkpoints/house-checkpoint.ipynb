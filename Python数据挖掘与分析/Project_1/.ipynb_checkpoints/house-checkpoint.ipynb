{
 "cells": [
  {
   "cell_type": "code",
   "execution_count": null,
   "metadata": {
    "pycharm": {
     "is_executing": true
    }
   },
   "outputs": [],
   "source": [
    "import pandas as  pd\n",
    "import numpy as np\n",
    "import random\n",
    "from matplotlib import pyplot as plt\n",
    "import seaborn as sns\n",
    "from sklearn.model_selection import train_test_split\n",
    "from sklearn.preprocessing import PolynomialFeatures\n",
    "from sklearn.linear_model import  Lasso\n",
    "from sklearn.ensemble import RandomForestRegressor\n",
    "from sklearn.tree import DecisionTreeRegressor\n",
    "from sklearn.neighbors import KNeighborsRegressor\n",
    "import numpy as np\n",
    "\n",
    "# 一、导入数据\n",
    "df=pd.read_csv('/Users/workspace/pyspace/pyjupyter/Xiangmu/house.csv', encoding='gbk')\n",
    "\n",
    "# 查看数据情况\n",
    "## 数据总体情况\n",
    "print(f'样本量总共有 {df.shape[0]} 个')\n",
    "\n",
    "## 判断是否有重复项\n",
    "df.duplicated().sum()"
   ]
  },
  {
   "cell_type": "code",
   "execution_count": null,
   "metadata": {
    "pycharm": {
     "name": "#%%\n"
    }
   },
   "outputs": [],
   "source": [
    "## 判断是否有缺失值\n",
    "df.isnull().sum()"
   ]
  },
  {
   "cell_type": "code",
   "execution_count": null,
   "metadata": {
    "pycharm": {
     "name": "#%%\n"
    }
   },
   "outputs": [],
   "source": [
    "## 查看数据类型\n",
    "df.dtypes"
   ]
  },
  {
   "cell_type": "code",
   "execution_count": null,
   "metadata": {
    "pycharm": {
     "name": "#%%\n"
    }
   },
   "outputs": [],
   "source": [
    "## 唯一标签值\n",
    "print(df['朝向'].unique())\n",
    "print(df['楼层'].unique())\n",
    "print(df['装修'].unique())\n",
    "print(df['产权性质'].unique())\n",
    "print(df['住宅类别'].unique())\n",
    "print(df['建筑结构'].unique())\n",
    "print(df['建筑类别'].unique())\n",
    "print(df['区域'].unique())\n",
    "print(df['建筑年代'].unique())"
   ]
  },
  {
   "cell_type": "code",
   "execution_count": null,
   "metadata": {
    "pycharm": {
     "name": "#%%\n"
    }
   },
   "outputs": [],
   "source": [
    "# 二、数据清洗\n",
    "## 1.数据格式转换\n",
    "df.replace('暂无',np.nan,inplace=True)\n",
    "df['建筑面积']=df['建筑面积'].map(lambda x: x.replace('平米','')).astype('float')\n",
    "df['单价']=df['单价'].map(lambda x: x.replace('元/平米','')).astype('float')\n",
    "def process_year(year):\n",
    "    if year is not None:\n",
    "        year = str(year)[:4]\n",
    "    return year\n",
    "df['建筑年代'] = df['建筑年代'].map(process_year)\n",
    "floor = {'低楼层':'低','中楼层':'中','高楼层':'高','低层':'低','中层':'中','高层':'高'}\n",
    "df['楼层'] = df['楼层'].map(floor)\n",
    "def process_area(area):\n",
    "    if area != '新区':\n",
    "        area = area.replace('区','').replace('县','')\n",
    "    return area\n",
    "df['区域'] = df['区域'].map(process_area)\n",
    "df.replace('nan',np.nan,inplace=True)\n",
    "\n",
    "## 2.重复值处理\n",
    "df.drop_duplicates(inplace=True)\n",
    "df.reset_index(drop=True, inplace=True)\n",
    "\n",
    "## 3.缺失值处理\n",
    "df.info()\n",
    "# 户型、朝向、楼层处理，缺失值数量不多，考虑直接删除即可\n",
    "df.dropna(subset=['户型','朝向','楼层'], inplace=True)\n",
    "# 建筑年代、建筑类别、建筑结构、住宅类别、产权性质、装修 这些离散型变量很难处理，得根据实际情况填充，为了得到更加真实的结果暂不处理\n",
    "# 电梯处理（底层无，高层有，中层随机处理）\n",
    "df.loc[(df['楼层'] == '高') & (df['电梯'].isnull()),'电梯'] = '有 '\n",
    "df.loc[(df['楼层'] == '低') & (df['电梯'].isnull()),'电梯'] = '无 '\n",
    "df.loc[(df['楼层'] == '中') & (df['电梯'].isnull()),'电梯'] = random.choice(['有 ','无 '])\n",
    "df.reset_index(drop=True, inplace=True)\n",
    "\n",
    "## 4.异常值处理\n",
    "# 箱线图分析\n",
    "plt.rcParams['font.sans-serif'] = ['SimHei']\n",
    "plt.rcParams['axes.unicode_minus'] = False\n",
    "fig,ax = plt.subplots(1,2,figsize=(16,6))\n",
    "df.boxplot(column=['建筑面积'], flierprops={'markeredgecolor':'red', 'markersize':4}, ax=ax[0])\n",
    "df.boxplot(column=['总价'], flierprops={'markeredgecolor':'red', 'markersize':4}, ax=ax[1])"
   ]
  },
  {
   "cell_type": "code",
   "execution_count": null,
   "metadata": {
    "pycharm": {
     "name": "#%%\n"
    }
   },
   "outputs": [],
   "source": [
    "## 5.描述性分析\n",
    "df.describe()"
   ]
  },
  {
   "cell_type": "markdown",
   "metadata": {},
   "source": [
    "# 将高于房价200万的删除\n",
    "df.drop(index = df[df['总价'] > 200].index, inplace=True)\n",
    "# 另存为新文件\n",
    "df.to_excel('house.xlsx',encoding='utf8',index=False)"
   ]
  },
  {
   "cell_type": "code",
   "execution_count": null,
   "metadata": {
    "pycharm": {
     "name": "#%%\n"
    }
   },
   "outputs": [],
   "source": [
    "# 三、数据分析\n",
    "## 1.探究单价、数量、总价和行政区域之间的关系\n",
    "fig,ax = plt.subplots(3,1,figsize=(8,18))\n",
    "x = df['区域'].unique()\n",
    "# 各区单价对比\n",
    "y1 = round(df.groupby(by=['区域'])['单价'].mean().sort_values(ascending=False),2)\n",
    "sns.barplot(x,y1,ax=ax[0],palette='Blues_r')\n",
    "ax[0].set_title('兰州各县\\区二手房平均单价对比')\n",
    "\n",
    "# 各区总价对比\n",
    "y2 = round(df.groupby(by=['区域'])['总价'].mean().sort_values(ascending=False),2)\n",
    "sns.barplot(x,y2,ax=ax[1],palette='BuGn_r')\n",
    "ax[1].set_title('兰州各县\\区二手房平均总价对比')\n",
    "\n",
    "# 各区房子数量对比\n",
    "y3 = round(df.groupby(by=['区域']).size().sort_values(ascending=False),2)\n",
    "sns.barplot(x,y3,ax=ax[2],palette='Oranges_d')\n",
    "ax[2].set_title('兰州各县\\区二手房数量对比')\n",
    "ax[2].set_ylabel('数量')"
   ]
  },
  {
   "cell_type": "code",
   "execution_count": null,
   "metadata": {
    "pycharm": {
     "name": "#%%\n"
    }
   },
   "outputs": [],
   "source": [
    "## 2.探究面积和总价的关系\n",
    "plt.figure(figsize=(8,7))\n",
    "sns.scatterplot(x='建筑面积',y='总价',data=df,s=14)"
   ]
  },
  {
   "cell_type": "code",
   "execution_count": null,
   "metadata": {
    "pycharm": {
     "name": "#%%\n"
    }
   },
   "outputs": [],
   "source": [
    "## 3.探究朝向和总价的关系\n",
    "plt.figure(figsize=(10,8))\n",
    "my_order = df.groupby(by=[\"朝向\"])[\"总价\"].median().sort_values(ascending=False).index\n",
    "sns.boxplot(x='朝向',y='总价',data=df,width=0.5,notch=True,order=my_order)"
   ]
  },
  {
   "cell_type": "code",
   "execution_count": null,
   "metadata": {
    "pycharm": {
     "name": "#%%\n"
    }
   },
   "outputs": [],
   "source": [
    "## 4.探究装修和总价的关系\n",
    "plt.figure(figsize=(10,8))\n",
    "my_order = df.groupby(by=[\"装修\"])[\"总价\"].median().sort_values(ascending=False).index\n",
    "sns.boxplot(x='装修',y='总价',data=df,width=0.4,notch=True,order=my_order)"
   ]
  },
  {
   "cell_type": "code",
   "execution_count": null,
   "metadata": {
    "pycharm": {
     "name": "#%%\n"
    }
   },
   "outputs": [],
   "source": [
    "## 5.探究楼层和总价的关系\n",
    "plt.figure(figsize=(10,8))\n",
    "my_order = df.groupby(by=[\"楼层\"])[\"总价\"].median().sort_values(ascending=False).index\n",
    "sns.boxplot(x='楼层',y='总价',data=df,width=0.3,notch=True,order=my_order)"
   ]
  },
  {
   "cell_type": "code",
   "execution_count": null,
   "metadata": {
    "pycharm": {
     "name": "#%%\n"
    }
   },
   "outputs": [],
   "source": [
    "## 6.探究电梯和总价的关系\n",
    "plt.figure(figsize=(10,8))\n",
    "my_order = df.groupby(by=[\"电梯\"])[\"总价\"].median().sort_values(ascending=False).index\n",
    "sns.boxplot(x='电梯',y='总价',data=df,width=0.2,notch=True,order=my_order)"
   ]
  },
  {
   "cell_type": "code",
   "execution_count": null,
   "metadata": {
    "pycharm": {
     "name": "#%%\n"
    }
   },
   "outputs": [],
   "source": [
    "## 7.探究学区房和总价的关系\n",
    "plt.figure(figsize=(10,8))\n",
    "my_order = df.groupby(by=[\"学校\"])[\"总价\"].median().sort_values(ascending=False).index\n",
    "sns.boxplot(x='学校',y='总价',data=df,width=0.2,notch=True,order=my_order)"
   ]
  },
  {
   "cell_type": "code",
   "execution_count": null,
   "metadata": {
    "pycharm": {
     "name": "#%%\n"
    }
   },
   "outputs": [],
   "source": [
    "## 8.建筑年代情况分析以及和总价的关系\n",
    "plt.figure(figsize=(16,8))\n",
    "order = sorted(df['建筑年代'].value_counts().index)\n",
    "sns.countplot(x=df['建筑年代'],order=order)"
   ]
  },
  {
   "cell_type": "code",
   "execution_count": null,
   "metadata": {
    "pycharm": {
     "name": "#%%\n"
    }
   },
   "outputs": [],
   "source": [
    "plt.figure(figsize=(13,8))\n",
    "my_order = df.groupby(by=[\"建筑年代\"])[\"总价\"].size().sort_values(ascending=False).index[:20]\n",
    "sns.boxplot(x='建筑年代',y='总价',data=df,width=0.2,notch=True,order=my_order)"
   ]
  },
  {
   "cell_type": "code",
   "execution_count": null,
   "metadata": {
    "pycharm": {
     "name": "#%%\n"
    }
   },
   "outputs": [],
   "source": [
    "## 9.产权性质、住宅类别、建筑结构、建筑类别与总价的关系\n",
    "plt.figure(figsize=(10,8))\n",
    "my_order = df.groupby(by=[\"产权性质\"])[\"总价\"].median().sort_values(ascending=False).index\n",
    "sns.boxplot(x='产权性质',y='总价',data=df,width=0.2,order=my_order)"
   ]
  },
  {
   "cell_type": "code",
   "execution_count": null,
   "metadata": {
    "pycharm": {
     "name": "#%%\n"
    }
   },
   "outputs": [],
   "source": [
    "plt.figure(figsize=(10,8))\n",
    "my_order = df.groupby(by=[\"住宅类别\"])[\"总价\"].median().sort_values(ascending=False).index\n",
    "sns.boxplot(x='住宅类别',y='总价',data=df,width=0.2,order=my_order)"
   ]
  },
  {
   "cell_type": "code",
   "execution_count": null,
   "metadata": {
    "pycharm": {
     "name": "#%%\n"
    }
   },
   "outputs": [],
   "source": [
    "plt.figure(figsize=(10,8))\n",
    "my_order = df.groupby(by=[\"建筑结构\"])[\"总价\"].median().sort_values(ascending=False).index\n",
    "sns.boxplot(x='建筑结构',y='总价',data=df,width=0.2,order=my_order)"
   ]
  },
  {
   "cell_type": "code",
   "execution_count": null,
   "metadata": {
    "pycharm": {
     "name": "#%%\n"
    }
   },
   "outputs": [],
   "source": [
    "plt.figure(figsize=(10,8))\n",
    "my_order = df.groupby(by=[\"建筑类别\"])[\"总价\"].median().sort_values(ascending=False).index\n",
    "sns.boxplot(x='建筑类别',y='总价',data=df,width=0.2,order=my_order)"
   ]
  },
  {
   "cell_type": "code",
   "execution_count": null,
   "metadata": {
    "pycharm": {
     "name": "#%%\n"
    }
   },
   "outputs": [],
   "source": [
    "## 9.户型和总价的关系\n",
    "plt.figure(figsize=(15,15))\n",
    "my_order = df.groupby(by=[\"户型\"])[\"总价\"].median().sort_values().index\n",
    "sns.boxplot(y='户型',x='总价',data=df,width=0.2,order=my_order)"
   ]
  },
  {
   "cell_type": "code",
   "execution_count": null,
   "metadata": {
    "pycharm": {
     "name": "#%%\n"
    }
   },
   "outputs": [],
   "source": [
    "plt.figure(figsize=(15,15))\n",
    "\n",
    "order = df['户型'].value_counts(ascending=False).index\n",
    "sns.countplot(y=df['户型'],order=order)"
   ]
  },
  {
   "cell_type": "code",
   "execution_count": null,
   "metadata": {
    "pycharm": {
     "name": "#%%\n"
    }
   },
   "outputs": [],
   "source": [
    "# 四、模型建立\n",
    "# 删除所有缺失值\n",
    "d1 = df.dropna().reset_index(drop=True)\n",
    "# 分解户型\n",
    "def apart_room(x):\n",
    "    room = x.split('室')[0]\n",
    "    return int(room)\n",
    "def apart_hall(x):\n",
    "    hall = x.split('厅')[0].split('室')[1]\n",
    "    return int(hall)\n",
    "def apart_wc(x):\n",
    "    wc = x.split('卫')[0].split('厅')[1]\n",
    "    return int(wc)\n",
    "d1['室'] = d1['户型'].map(apart_room)\n",
    "d1['厅'] = d1['户型'].map(apart_hall)\n",
    "d1['卫'] = d1['户型'].map(apart_wc)\n",
    "# 删除楼层、户型、单价\n",
    "d1.drop(columns=['户型','楼层','单价'],inplace=True)\n",
    "# 编码-有序多分类（根据上面可视化的结果，按照对价格的影响程度排序，越大影响越高）\n",
    "# 无序多分类无法直接引入，必须“哑元”化变量\n",
    "# 等级变量（有序多分类）可以直接引入模型\n",
    "map1 = {'南':5, '南北':6, '北':1, '西南':10, '东西':4, '东':2, '东北':8, '东南':9, '西':3, '西北':7}\n",
    "d1['朝向'] = d1['朝向'].map(map1)\n",
    "map2 = {'毛坯':1, '简装修':2, '精装修':3, '中装修':4, '豪华装修':5}\n",
    "d1['装修'] = d1['装修'].map(map2)\n",
    "map3 = {'有 ':1, '无 ':0}\n",
    "d1['电梯'] = d1['电梯'].map(map3)\n",
    "map4 = {'商品房':6, '个人产权':5, '商品房(免税)':7, '普通商品房':4, '经济适用房':2, '房改房':3, '限价房':8, '房本房':1}\n",
    "d1['产权性质'] = d1['产权性质'].map(map4)\n",
    "map5 = {'普通住宅':4, '经济适用房':3, '公寓':1, '商住楼':2, '酒店式公寓':5}\n",
    "d1['住宅类别'] = d1['住宅类别'].map(map5)\n",
    "map6 = {'平层':4, '开间':2, '跃层':5, '错层':1, '复式':3}\n",
    "d1['建筑结构'] = d1['建筑结构'].map(map6)\n",
    "map7 = {'板楼':4, '钢混':5, '塔板结合':3, '平房':6, '砖混':1, '塔楼':7, '砖楼':2}\n",
    "d1['建筑类别'] = d1['建筑类别'].map(map7)\n",
    "map8 = {'城关':6, '安宁':5, '七里河':4, '西固':3,'榆中':2, '永登':1}\n",
    "d1['区域'] = d1['区域'].map(map8)\n",
    "# 删除超过2019年的房子，年代转变为房龄\n",
    "d1['建筑年代'] = d1['建筑年代'].astype('int32')\n",
    "d1.drop(index=d1[d1['建筑年代']>2019].index,inplace=True)\n",
    "d1['房龄'] = d1['建筑年代'].map(lambda x: 2020-x)\n",
    "d1.drop(columns=['建筑年代'],inplace=True)"
   ]
  },
  {
   "cell_type": "code",
   "execution_count": null,
   "metadata": {
    "pycharm": {
     "name": "#%%\n"
    }
   },
   "outputs": [],
   "source": [
    "X = d1.drop(columns=['总价'])\n",
    "y = d1['总价']\n",
    "X_train, X_test, y_train, y_test = train_test_split(X, y,random_state=33)\n",
    "poly = PolynomialFeatures(degree=2)\n",
    "x_train = poly.fit_transform(X_train.values)\n",
    "x_test = poly.fit_transform(X_test)"
   ]
  },
  {
   "cell_type": "code",
   "execution_count": null,
   "metadata": {
    "pycharm": {
     "name": "#%%\n"
    }
   },
   "outputs": [],
   "source": [
    "# 套索回归\n",
    "la = Lasso(alpha=0.1,max_iter=100000)\n",
    "la.fit(x_train,y_train)\n",
    "print(f'训练集得分：{round(la.score(x_train,y_train),2)}')\n",
    "print(f'测试集得分：{round(la.score(x_test,y_test),2)}')"
   ]
  },
  {
   "cell_type": "code",
   "execution_count": null,
   "metadata": {
    "pycharm": {
     "name": "#%%\n"
    }
   },
   "outputs": [],
   "source": [
    "# 随机森林\n",
    "rf = RandomForestRegressor()\n",
    "rf.fit(x_train,y_train)\n",
    "print(f'训练集得分：{round(rf.score(x_train,y_train),2)}')\n",
    "print(f'测试集得分：{round(rf.score(x_test,y_test),2)}')"
   ]
  },
  {
   "cell_type": "code",
   "execution_count": null,
   "metadata": {
    "pycharm": {
     "name": "#%%\n"
    }
   },
   "outputs": [],
   "source": [
    "# 决策树\n",
    "dt = DecisionTreeRegressor(max_depth = 6)\n",
    "dt.fit(x_train,y_train)\n",
    "print(f'训练集得分：{round(dt.score(x_train,y_train),2)}')\n",
    "print(f'测试集得分：{round(dt.score(x_test,y_test),2)}')"
   ]
  },
  {
   "cell_type": "code",
   "execution_count": null,
   "metadata": {
    "pycharm": {
     "name": "#%%\n"
    }
   },
   "outputs": [],
   "source": [
    "\n",
    "# k近邻\n",
    "kn = KNeighborsRegressor(n_neighbors=20)\n",
    "kn.fit(x_train,y_train)\n",
    "print(f'训练集得分：{round(kn.score(x_train,y_train),2)}')\n",
    "print(f'测试集得分：{round(kn.score(x_test,y_test),2)}')"
   ]
  },
  {
   "cell_type": "code",
   "execution_count": null,
   "metadata": {
    "pycharm": {
     "name": "#%%\n"
    }
   },
   "outputs": [],
   "source": [
    "# 五、案例模拟\n",
    "'''\n",
    "一家三口，孩子即将上学，大人城关区工作，需要购买房子，假设要求如下：\n",
    "3室1厅1卫（3、1、1）\n",
    "面积大概再95㎡左右（95）\n",
    "学区房（1）\n",
    "东南（10）\n",
    "中装修 （4）\n",
    "无电梯 （0）\n",
    "个人产权（5）\n",
    "普通住宅（4）\n",
    "平层（4）\n",
    "钢混（5）\n",
    "城关（6）\n",
    "房龄 （10）\n",
    "'''\n",
    "apply = np.array([95,10,4,0,5,4,4,5,6,1,3,1,1,10]).reshape(1,-1)\n",
    "poly_apply = poly.fit_transform(apply)\n",
    "print('------------总价预测结果-------------')\n",
    "print(f'线性回归：{round(la.predict(poly_apply)[0],2)}万元')\n",
    "print(f'随机森林回归：{round(rf.predict(poly_apply)[0],2)}万元')\n",
    "print(f'决策树回归：{round(dt.predict(poly_apply)[0],2)}万元')\n",
    "print(f'K近邻回归：{round(kn.predict(poly_apply)[0],2)}万元')\n",
    "print('------------综合预测结果-------------')\n",
    "print(round(((la.predict(poly_apply)+rf.predict(poly_apply)+dt.predict(poly_apply)+kn.predict(poly_apply))/4.0)[0],2),'万元')\n"
   ]
  }
 ],
 "metadata": {
  "kernelspec": {
   "display_name": "PyCharm (pyjupyter)",
   "language": "python",
   "name": "pycharm-a40b46c7"
  },
  "language_info": {
   "codemirror_mode": {
    "name": "ipython",
    "version": 3
   },
   "file_extension": ".py",
   "mimetype": "text/x-python",
   "name": "python",
   "nbconvert_exporter": "python",
   "pygments_lexer": "ipython3",
   "version": "3.8.8"
  }
 },
 "nbformat": 4,
 "nbformat_minor": 1
}
