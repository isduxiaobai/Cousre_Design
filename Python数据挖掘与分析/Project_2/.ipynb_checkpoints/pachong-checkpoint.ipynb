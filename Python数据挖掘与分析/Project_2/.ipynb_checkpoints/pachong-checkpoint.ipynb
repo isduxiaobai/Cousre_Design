{
 "cells": [
  {
   "cell_type": "code",
   "execution_count": 1,
   "metadata": {
    "collapsed": true
   },
   "outputs": [
    {
     "name": "stdout",
     "output_type": "stream",
     "text": [
      "Looking in indexes: https://mirrors.aliyun.com/pypi/simple/\r\n",
      "Collecting UserAgent\r\n",
      "  Downloading https://mirrors.aliyun.com/pypi/packages/22/7a/6380332af6b9e7bb1267adc8ac663758b329feb0d0baa20e46940a26b36d/useragent-0.1.1.tar.gz (134 kB)\r\n",
      "\u001b[K     |████████████████████████████████| 134 kB 40 kB/s eta 0:00:01\r\n",
      "\u001b[?25hBuilding wheels for collected packages: UserAgent\r\n",
      "  Building wheel for UserAgent (setup.py) ... \u001b[?25l-\b \b\\\b \b|\b \b/\b \bdone\r\n",
      "\u001b[?25h  Created wheel for UserAgent: filename=useragent-0.1.1-py3-none-any.whl size=142380 sha256=a57216648b71f010c637e80d48f12d99d3ceb54909c79484cfc90370c58b75a2\r\n",
      "  Stored in directory: /Users/duxiaobai/Library/Caches/pip/wheels/61/47/ab/5fb03e6fb7ccc81f638ff32106fd9e2c1fe8c0a0717ccac4f1\r\n",
      "Successfully built UserAgent\r\n",
      "Installing collected packages: UserAgent\r\n",
      "Successfully installed UserAgent-0.1.1\r\n"
     ]
    }
   ],
   "source": [
    "!pip install -i https://mirrors.aliyun.com/pypi/simple/ UserAgent"
   ]
  },
  {
   "cell_type": "code",
   "execution_count": 2,
   "metadata": {
    "pycharm": {
     "name": "#%%\n"
    }
   },
   "outputs": [
    {
     "name": "stdout",
     "output_type": "stream",
     "text": [
      "Looking in indexes: https://mirrors.aliyun.com/pypi/simple/\r\n",
      "Collecting fake_useragent\r\n",
      "  Downloading https://mirrors.aliyun.com/pypi/packages/d1/79/af647635d6968e2deb57a208d309f6069d31cb138066d7e821e575112a80/fake-useragent-0.1.11.tar.gz (13 kB)\r\n",
      "Building wheels for collected packages: fake-useragent\r\n",
      "  Building wheel for fake-useragent (setup.py) ... \u001b[?25l-\b \b\\\b \bdone\r\n",
      "\u001b[?25h  Created wheel for fake-useragent: filename=fake_useragent-0.1.11-py3-none-any.whl size=13486 sha256=b394cba960a61908a9e697fc4f185c26099dd007d934307079cdefe6d2ecaab0\r\n",
      "  Stored in directory: /Users/duxiaobai/Library/Caches/pip/wheels/4c/71/0e/66fda9f63cec14b92beac3eb9654af3d423531d7f81ad4bcdd\r\n",
      "Successfully built fake-useragent\r\n",
      "Installing collected packages: fake-useragent\r\n",
      "Successfully installed fake-useragent-0.1.11\r\n"
     ]
    }
   ],
   "source": [
    "!pip install -i https://mirrors.aliyun.com/pypi/simple/ fake_useragent"
   ]
  },
  {
   "cell_type": "code",
   "execution_count": 3,
   "metadata": {
    "pycharm": {
     "name": "#%%\n"
    }
   },
   "outputs": [],
   "source": [
    "import os\n",
    "import time\n",
    "import json\n",
    "import random\n",
    "import requests\n",
    "from fake_useragent import UserAgent\n",
    "from openpyxl import Workbook, load_workbook"
   ]
  },
  {
   "cell_type": "code",
   "execution_count": 5,
   "metadata": {
    "pycharm": {
     "name": "#%%\n"
    }
   },
   "outputs": [],
   "source": [
    "# request+json–网页数据爬取\n",
    "# openpyxl–保存数据至Excel\n",
    "\n",
    "# 34个行政区\n",
    "cities = ['广东', '北京', '上海', '天津', '重庆', '云南', '黑龙江', '内蒙古', '吉林',\n",
    "          '宁夏', '安徽', '山东', '山西', '四川', '广西', '新疆', '江苏', '江西',\n",
    "          '河北', '河南', '浙江', '海南', '湖北', '湖南', '澳门', '甘肃',\n",
    "          '福建', '西藏', '贵州', '辽宁', '陕西', '青海', '香港', '台湾']\n",
    "\n",
    "# 爬取每个行政区\n",
    "def get_city_scenic(city, page):\n",
    "    ua = UserAgent(verify_ssl=False)\n",
    "    headers = {'User-Agent': ua.random}\n",
    "    url = f'https://piao.qunar.com/ticket/list.json?keyword={city}&region=&from=mpl_search_suggest&sort=pp&page={page}'\n",
    "    result = requests.get(url, headers=headers, timeout=10)\n",
    "    result.raise_for_status()\n",
    "    return  get_scenic_info(city, result.text)\n",
    "\n",
    "# 爬取每一页\n",
    "def get_scenic_info(city, response):\n",
    "    response_info = json.loads(response)\n",
    "    sight_list = response_info['data']['sightList']\n",
    "    one_city_scenic = []\n",
    "    for sight in sight_list:\n",
    "        scenic = []\n",
    "        name = sight['sightName'] # 景点名称\n",
    "        star = sight.get('star', None) # 星级\n",
    "        score = sight.get('score', 0) # 评分\n",
    "        price = sight.get('qunarPrice', 0) # 价格\n",
    "        sale = sight.get('saleCount', 0) # 销量\n",
    "        districts = sight.get('districts', None) # 省，市，区\n",
    "        point = sight.get('point', None) # 坐标\n",
    "        intro = sight.get('intro', None) # 简介\n",
    "        free = sight.get('free', True) # 是否免费\n",
    "        address = sight.get('address', None) # 具体地址\n",
    "        scenic.append(city)\n",
    "        scenic.append(name)\n",
    "        scenic.append(star)\n",
    "        scenic.append(score)\n",
    "        scenic.append(price)\n",
    "        scenic.append(sale)\n",
    "        scenic.append(districts)\n",
    "        scenic.append(point)\n",
    "        scenic.append(intro)\n",
    "        scenic.append(free)\n",
    "        scenic.append(address)\n",
    "        one_city_scenic.append(scenic)\n",
    "    return one_city_scenic\n",
    "\n",
    "# 循环爬取每个行政区\n",
    "def get_city_info(cities, pages):\n",
    "    for city in cities:\n",
    "        one_city_info = []\n",
    "        for page in range(1, pages+1):\n",
    "            try:\n",
    "                print(f'正在爬取-{city}(省/市), 第{page}页景点数据...')\n",
    "                time.sleep(random.uniform(0.8,1.5))\n",
    "                one_page_info = get_city_scenic(city, page)\n",
    "            except:\n",
    "                continue\n",
    "            if one_page_info:\n",
    "                one_city_info += one_page_info\n",
    "# 输出部分信息"
   ]
  },
  {
   "cell_type": "code",
   "execution_count": 6,
   "metadata": {
    "pycharm": {
     "name": "#%%\n"
    }
   },
   "outputs": [],
   "source": [
    "# 保存数据\n",
    "def insert2excel(filepath,allinfo):\n",
    "    try:\n",
    "        if not os.path.exists(filepath):\n",
    "            tableTitle = ['城市','名称','星级','评分','价格','销量','省/市/区','坐标','简介','是否免费','具体地址']\n",
    "            wb = Workbook()\n",
    "            ws = wb.active\n",
    "            ws.title = 'sheet1'\n",
    "            ws.append(tableTitle)\n",
    "            wb.save(filepath)\n",
    "            time.sleep(3)\n",
    "        wb = load_workbook(filepath)\n",
    "        ws = wb.active\n",
    "        ws.title = 'sheet1'\n",
    "        for info in allinfo:\n",
    "            ws.append(info)\n",
    "        wb.save(filepath)\n",
    "        return True\n",
    "    except:\n",
    "        return False"
   ]
  },
  {
   "cell_type": "code",
   "execution_count": null,
   "metadata": {},
   "outputs": [],
   "source": []
  }
 ],
 "metadata": {
  "kernelspec": {
   "display_name": "PyCharm (pyjupyter)",
   "language": "python",
   "name": "pycharm-a40b46c7"
  },
  "language_info": {
   "codemirror_mode": {
    "name": "ipython",
    "version": 3
   },
   "file_extension": ".py",
   "mimetype": "text/x-python",
   "name": "python",
   "nbconvert_exporter": "python",
   "pygments_lexer": "ipython3",
   "version": "3.8.8"
  }
 },
 "nbformat": 4,
 "nbformat_minor": 1
}
