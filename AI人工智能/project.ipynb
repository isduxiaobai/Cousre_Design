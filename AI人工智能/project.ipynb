{
 "cells": [
  {
   "cell_type": "markdown",
   "metadata": {},
   "source": [
    "# 当生成式对抗神经网络遇到车道线检测\n",
    "\n",
    "目前，卷积神经网络已经成功地应用于语义分割任务。然而，有许多问题本质上不是像素分类问题，但仍然经常被表述为语义分割，将像素概率图转换为最终所需的输出。\n",
    "\n",
    "![](https://ai-studio-static-online.cdn.bcebos.com/bd2505fd1d734a71ba25c503efc68f1a5ba1fadaa941495594acc10faebc8d57)\n",
    "\n",
    "以车道线检测为例，目前车道线检测的难点为寻找语义上的线，而不是局限于表观存在的线。\n",
    "\n",
    "但是生成对抗网络 (GAN) 可用于使语义分割网络的输出更真实或更好地保留结构。"
   ]
  },
  {
   "cell_type": "code",
   "execution_count": 6,
   "metadata": {},
   "outputs": [],
   "source": []
  },
  {
   "cell_type": "markdown",
   "metadata": {},
   "source": [
    "# 一、数据集简介\n",
    "\n",
    "本项目使用的是21年新出的车道线检测数据集`VIL-100`，这是一个包含100个视频，10000帧图像，涵盖10种车道线类型、各种驾驶场景、光照条件和多条车道线实体，同时对视频中的所有车道线提供了高质量的实体级标注。\n",
    "\n",
    "![](https://ai-studio-static-online.cdn.bcebos.com/7334fdd05b6942878bf7f1e5208229801c0cf8429f3a475da6d60d2ce022e493)\n",
    "\n",
    "- 更多介绍请查看官方论文：[https://arxiv.org/abs/2108.08482](https://arxiv.org/abs/2108.08482)\n",
    "- 该数据集已上传至AI Studio：[https://aistudio.baidu.com/aistudio/datasetdetail/115234](https://aistudio.baidu.com/aistudio/datasetdetail/115234)"
   ]
  },
  {
   "cell_type": "code",
   "execution_count": 7,
   "metadata": {},
   "outputs": [
    {
     "name": "stdout",
     "output_type": "stream",
     "text": [
      "unzip:  cannot find or open /Users/workspace/pyspace/pyjupyter/AI/datazip/VIL100.zip, /Users/workspace/pyspace/pyjupyter/AI/datazip/VIL100.zip.zip or /Users/workspace/pyspace/pyjupyter/AI/datazip/VIL100.zip.ZIP.\r\n"
     ]
    }
   ],
   "source": [
    "# 解压数据集\n",
    "!unzip -q /Users/workspace/pyspace/pyjupyter/AI/datazip/VIL100.zip -d data/"
   ]
  },
  {
   "cell_type": "code",
   "execution_count": 9,
   "metadata": {},
   "outputs": [
    {
     "name": "stdout",
     "output_type": "stream",
     "text": [
      "['/Users/workspace/pyspace/pyjupyter/AI', '/Users/workspace/pyspace/pyjupyter', '/Users/duxiaobai/opt/anaconda3/lib/python38.zip', '/Users/duxiaobai/opt/anaconda3/lib/python3.8', '/Users/duxiaobai/opt/anaconda3/lib/python3.8/lib-dynload', '', '/Users/duxiaobai/opt/anaconda3/lib/python3.8/site-packages', '/Users/duxiaobai/opt/anaconda3/lib/python3.8/site-packages/aeosa', '/Users/duxiaobai/opt/anaconda3/lib/python3.8/site-packages/locket-0.2.1-py3.8.egg', '/Users/duxiaobai/opt/anaconda3/lib/python3.8/site-packages/IPython/extensions', '/Users/duxiaobai/.ipython', '/Applications/PyCharm.app/Contents/plugins/python/helpers/pydev', '/Applications/PyCharm.app/Contents/plugins/python/helpers-pro/jupyter_debug']\n"
     ]
    },
    {
     "ename": "ImportError",
     "evalue": "ERROR: recursion is detected during loading of \"cv2\" binary extensions. Check OpenCV installation.",
     "output_type": "error",
     "traceback": [
      "\u001b[0;31m---------------------------------------------------------------------------\u001b[0m",
      "\u001b[0;31mImportError\u001b[0m                               Traceback (most recent call last)",
      "\u001b[0;32m<ipython-input-9-933d17a8f01a>\u001b[0m in \u001b[0;36m<module>\u001b[0;34m\u001b[0m\n\u001b[1;32m      1\u001b[0m \u001b[0;31m# 数据可视化\u001b[0m\u001b[0;34m\u001b[0m\u001b[0;34m\u001b[0m\u001b[0;34m\u001b[0m\u001b[0m\n\u001b[0;32m----> 2\u001b[0;31m \u001b[0;32mimport\u001b[0m \u001b[0mcv2\u001b[0m\u001b[0;34m\u001b[0m\u001b[0;34m\u001b[0m\u001b[0m\n\u001b[0m\u001b[1;32m      3\u001b[0m \u001b[0;32mimport\u001b[0m \u001b[0mrandom\u001b[0m\u001b[0;34m\u001b[0m\u001b[0;34m\u001b[0m\u001b[0m\n\u001b[1;32m      4\u001b[0m \u001b[0;32mimport\u001b[0m \u001b[0mnumpy\u001b[0m \u001b[0;32mas\u001b[0m \u001b[0mnp\u001b[0m\u001b[0;34m\u001b[0m\u001b[0;34m\u001b[0m\u001b[0m\n\u001b[1;32m      5\u001b[0m \u001b[0;32mimport\u001b[0m \u001b[0mmatplotlib\u001b[0m\u001b[0;34m.\u001b[0m\u001b[0mpyplot\u001b[0m \u001b[0;32mas\u001b[0m \u001b[0mplt\u001b[0m\u001b[0;34m\u001b[0m\u001b[0;34m\u001b[0m\u001b[0m\n",
      "\u001b[0;32m~/opt/anaconda3/lib/python3.8/site-packages/cv2/__init__.py\u001b[0m in \u001b[0;36m<module>\u001b[0;34m\u001b[0m\n\u001b[1;32m    178\u001b[0m \u001b[0;34m\u001b[0m\u001b[0m\n\u001b[1;32m    179\u001b[0m \u001b[0;34m\u001b[0m\u001b[0m\n\u001b[0;32m--> 180\u001b[0;31m \u001b[0mbootstrap\u001b[0m\u001b[0;34m(\u001b[0m\u001b[0;34m)\u001b[0m\u001b[0;34m\u001b[0m\u001b[0;34m\u001b[0m\u001b[0m\n\u001b[0m",
      "\u001b[0;32m~/opt/anaconda3/lib/python3.8/site-packages/cv2/__init__.py\u001b[0m in \u001b[0;36mbootstrap\u001b[0;34m()\u001b[0m\n\u001b[1;32m     73\u001b[0m     \u001b[0;32mif\u001b[0m \u001b[0mhasattr\u001b[0m\u001b[0;34m(\u001b[0m\u001b[0msys\u001b[0m\u001b[0;34m,\u001b[0m \u001b[0;34m'OpenCV_LOADER'\u001b[0m\u001b[0;34m)\u001b[0m\u001b[0;34m:\u001b[0m\u001b[0;34m\u001b[0m\u001b[0;34m\u001b[0m\u001b[0m\n\u001b[1;32m     74\u001b[0m         \u001b[0mprint\u001b[0m\u001b[0;34m(\u001b[0m\u001b[0msys\u001b[0m\u001b[0;34m.\u001b[0m\u001b[0mpath\u001b[0m\u001b[0;34m)\u001b[0m\u001b[0;34m\u001b[0m\u001b[0;34m\u001b[0m\u001b[0m\n\u001b[0;32m---> 75\u001b[0;31m         \u001b[0;32mraise\u001b[0m \u001b[0mImportError\u001b[0m\u001b[0;34m(\u001b[0m\u001b[0;34m'ERROR: recursion is detected during loading of \"cv2\" binary extensions. Check OpenCV installation.'\u001b[0m\u001b[0;34m)\u001b[0m\u001b[0;34m\u001b[0m\u001b[0;34m\u001b[0m\u001b[0m\n\u001b[0m\u001b[1;32m     76\u001b[0m     \u001b[0msys\u001b[0m\u001b[0;34m.\u001b[0m\u001b[0mOpenCV_LOADER\u001b[0m \u001b[0;34m=\u001b[0m \u001b[0;32mTrue\u001b[0m\u001b[0;34m\u001b[0m\u001b[0;34m\u001b[0m\u001b[0m\n\u001b[1;32m     77\u001b[0m \u001b[0;34m\u001b[0m\u001b[0m\n",
      "\u001b[0;31mImportError\u001b[0m: ERROR: recursion is detected during loading of \"cv2\" binary extensions. Check OpenCV installation."
     ]
    }
   ],
   "source": [
    "# 数据可视化\n",
    "import cv2\n",
    "import random\n",
    "import numpy as np\n",
    "import matplotlib.pyplot as plt\n",
    "%matplotlib inline\n",
    "\n",
    "root = \"data/VIL100\"\n",
    "with open(\"data/VIL100/data/train.txt\", \"r\") as trainList: \n",
    "    trainDatas = trainList.readlines()\n",
    "    print('训练集数据量: {}'.format(len(trainDatas)))\n",
    "\n",
    "with open(\"data/VIL100/data/test.txt\", \"r\") as testList: \n",
    "    testDatas = testList.readlines()\n",
    "    print('测试集数据量: {}'.format(len(testDatas)))\n",
    "\n",
    "# 从训练集中随机抽取一张图像进行可视化\n",
    "index = random.randint(0, len(trainDatas))\n",
    "traindata = trainDatas[index].split(\" \")\n",
    "image = cv2.imread(root + traindata[0])\n",
    "label = cv2.imread(root + traindata[1])\n",
    "plt.figure(figsize=(10, 10))\n",
    "plt.imshow(np.hstack([image, label])[:,:,::-1])\n",
    "plt.show()"
   ]
  },
  {
   "cell_type": "markdown",
   "metadata": {},
   "source": [
    "# 二、数据预处理\n",
    "\n",
    "数据预处理部分与图像分割的数据处理类似，需要对输入图像进行归一化，并基于飞桨提供的`paddle.io.Dataset`基类，实现自定义数据集。"
   ]
  },
  {
   "cell_type": "code",
   "execution_count": 10,
   "metadata": {},
   "outputs": [],
   "source": [
    "from paddle.io import Dataset\n",
    "\n",
    "class VILData(Dataset):\n",
    "    def __init__(self, mode='train'):\n",
    "        super(VILData, self).__init__() \n",
    "        self.train_data_paths = self.load_train_data()# 获取训练集\n",
    "        self.test_data_paths = self.load_test_data()  # 获取训练集\n",
    "        self.mode = mode\n",
    "        self.root = \"data/VIL100\"\n",
    "\n",
    "    def __getitem__(self, idx):\n",
    "        if self.mode == 'test':\n",
    "            data_paths = self.test_data_paths\n",
    "        else:\n",
    "            data_paths = self.train_data_paths\n",
    "        image = cv2.imread(self.root + data_paths[idx].split(\" \")[0])\n",
    "        image = (image / 255. * 2. - 1.).astype('float32')\n",
    "        image = np.transpose(image, (2, 0, 1))\n",
    "        label = cv2.imread(self.root + data_paths[idx].split(\" \")[1])\n",
    "        label = label.astype('float32')\n",
    "        label = np.transpose(label, (2, 0, 1))\n",
    "\n",
    "        return image, label\n",
    "\n",
    "    def __len__(self):\n",
    "        if self.mode == 'test':\n",
    "            return len(self.test_data_paths)\n",
    "        else:\n",
    "            return len(self.train_data_paths)\n",
    "\n",
    "    @staticmethod\n",
    "    def load_train_data():\n",
    "        data_path = 'data/VIL100/data/train.txt'\n",
    "        with open(data_path, \"r\") as trainList: \n",
    "            return trainList.readlines()\n",
    "\n",
    "    @staticmethod\n",
    "    def load_test_data():\n",
    "        data_path = 'data/VIL100/data/test.txt'\n",
    "        with open(data_path, \"r\") as testList: \n",
    "            return testList.readlines()\n",
    "\n",
    "traindataset = VILData('train')\n",
    "testdataset = VILData('test')"
   ]
  },
  {
   "cell_type": "code",
   "execution_count": null,
   "metadata": {},
   "outputs": [],
   "source": [
    "# 从训练集中随机抽取一张图像进行可视化\n",
    "index = random.randint(0, len(traindataset))\n",
    "plt.imshow(np.transpose(traindataset[index][0], (1,2,0)))\n",
    "plt.show()"
   ]
  },
  {
   "cell_type": "code",
   "execution_count": null,
   "metadata": {},
   "outputs": [],
   "source": [
    "# 可视化图像对应的标签\n",
    "plt.imshow(np.transpose(traindataset[index][1], (1,2,0)))\n",
    "plt.show()"
   ]
  },
  {
   "cell_type": "markdown",
   "metadata": {},
   "source": [
    "# 三、模型组网\n",
    "\n",
    "Pix2Pix，通过随机向量z和图像x生成需要图像y，即{z,x} -> y\n",
    "\n",
    "![](https://ai-studio-static-online.cdn.bcebos.com/2449c781ef65493e966efccfdec70d2749779534c97d4906a482b90a2a9874f1)\n",
    "\n",
    "生成器G用于生成尽可能愚弄判别器D的图像，判别器D尽可能分辨出生成器G生成的假图以及真实图像。"
   ]
  },
  {
   "cell_type": "markdown",
   "metadata": {},
   "source": [
    "## 1.生成器的搭建\n",
    "\n",
    "生成器G的结构采用的是U-Net。\n",
    "\n",
    "在车道线检测任务中，需要从一个图像到另一个图像，输入输出虽然在表面细节不同，但是底层大致的结构是相同的，所以输入与输出需要粗略的对齐。对于图像的任务而言，需要输入输出之间除了共享高层语义信息之外，还需要能够共享底层的语义信息。这样，U-Net就可以被运用起来。\n",
    "\n",
    "特别的，为了更好的传递信息，Pix2Pix的作者加了跳连, 直接从i层传输到n-i层，n是总得网络层数，i是与n-i层之间有相应的通道。\n"
   ]
  },
  {
   "cell_type": "code",
   "execution_count": null,
   "metadata": {},
   "outputs": [],
   "source": [
    "import paddle\n",
    "import paddle.nn as nn\n",
    "\n",
    "# 下采样\n",
    "class Downsample(nn.Layer):\n",
    "    # LeakyReLU => conv => batch norm\n",
    "    def __init__(self, in_dim, out_dim, kernel_size=5, stride=1, padding=1):\n",
    "        super(Downsample, self).__init__()\n",
    "\n",
    "        self.layers = nn.Sequential(\n",
    "            nn.LeakyReLU(.2),\n",
    "            nn.Conv2D(in_dim, out_dim, kernel_size, stride, padding),\n",
    "            nn.BatchNorm2D(out_dim),\n",
    "        )\n",
    "\n",
    "    def forward(self, x):\n",
    "        x = self.layers(x)\n",
    "        return x\n",
    "\n",
    "# 上采样\n",
    "class Upsample(nn.Layer):\n",
    "    # ReLU => deconv => batch norm => dropout\n",
    "    def __init__(self, in_dim, out_dim, kernel_size=5, stride=1, padding=1, use_dropout=False):\n",
    "        super(Upsample, self).__init__()\n",
    "\n",
    "        sequence = [\n",
    "            nn.ReLU(),\n",
    "            nn.Conv2DTranspose(in_dim, out_dim, kernel_size, stride, padding),\n",
    "            nn.BatchNorm2D(out_dim),\n",
    "        ]\n",
    "\n",
    "        if use_dropout:\n",
    "            sequence.append(nn.Dropout(p=0.5))\n",
    "\n",
    "        self.layers = nn.Sequential(*sequence)\n",
    "\n",
    "    def forward(self, x, skip):\n",
    "        x = self.layers(x)\n",
    "        x = paddle.concat([x, skip], axis=1)\n",
    "        return x\n",
    "\n",
    "# 生成器\n",
    "class UnetGenerator(nn.Layer):\n",
    "    def __init__(self, input_nc=3, output_nc=3, ngf=4):\n",
    "        super(UnetGenerator, self).__init__()\n",
    "        self.down1 = nn.Conv2D(input_nc, ngf, kernel_size=5, stride=1, padding=1)\n",
    "        self.down2 = Downsample(ngf, ngf*2)\n",
    "        self.down3 = Downsample(ngf*2, ngf*4)\n",
    "        self.down4 = Downsample(ngf*4, ngf*8)\n",
    "        self.down5 = Downsample(ngf*8, ngf*8)\n",
    "        self.down6 = Downsample(ngf*8, ngf*8)\n",
    "        self.down7 = Downsample(ngf*8, ngf*8)\n",
    "        self.center = Downsample(ngf*8, ngf*8)\n",
    "        self.up7 = Upsample(ngf*8, ngf*8, use_dropout=True)\n",
    "        self.up6 = Upsample(ngf*8*2, ngf*8, use_dropout=True)\n",
    "        self.up5 = Upsample(ngf*8*2, ngf*8, use_dropout=True)\n",
    "        self.up4 = Upsample(ngf*8*2, ngf*8)\n",
    "        self.up3 = Upsample(ngf*8*2, ngf*4)\n",
    "        self.up2 = Upsample(ngf*4*2, ngf*2)\n",
    "        self.up1 = Upsample(ngf*2*2, ngf)\n",
    "        self.output_block = nn.Sequential(\n",
    "            nn.ReLU(),\n",
    "            nn.Conv2DTranspose(ngf*2, output_nc, kernel_size=5, stride=1, padding=1),\n",
    "            nn.Tanh()\n",
    "        )\n",
    "\n",
    "    def forward(self, x):\n",
    "        d1 = self.down1(x)\n",
    "        d2 = self.down2(d1)\n",
    "        d3 = self.down3(d2)\n",
    "        d4 = self.down4(d3)\n",
    "        d5 = self.down5(d4)\n",
    "        d6 = self.down6(d5)\n",
    "        d7 = self.down7(d6)\n",
    "        c = self.center(d7)\n",
    "        x = self.up7(c, d7)\n",
    "        x = self.up6(x, d6)\n",
    "        x = self.up5(x, d5)\n",
    "        x = self.up4(x, d4)\n",
    "        x = self.up3(x, d3)\n",
    "        x = self.up2(x, d2)\n",
    "        x = self.up1(x, d1)\n",
    "        x = self.output_block(x)\n",
    "        return x\n",
    "\n",
    "generator = UnetGenerator()"
   ]
  },
  {
   "cell_type": "markdown",
   "metadata": {},
   "source": [
    "## 2.判别器的搭建\n",
    "\n",
    "在Pix2Pix中，判别器输入两张图像，一张是输入给生成器G的图像，另一张是生成器G的输出的图像。也就是说，对于判别器而言，只有高质量的输出图像是不能骗过判别器的，有两张图像的对应关系能使判别器更好地工作。"
   ]
  },
  {
   "cell_type": "code",
   "execution_count": null,
   "metadata": {},
   "outputs": [],
   "source": [
    "class NLayerDiscriminator(nn.Layer):\n",
    "    def __init__(self, input_nc=6, ndf=4):\n",
    "        super(NLayerDiscriminator, self).__init__()\n",
    "        self.layers = nn.Sequential(\n",
    "            nn.Conv2D(input_nc, ndf, kernel_size=3, stride=1, padding=1), \n",
    "            nn.LeakyReLU(0.2),\n",
    "            ConvBlock(ndf, ndf*2),\n",
    "            ConvBlock(ndf*2, ndf*4),\n",
    "            ConvBlock(ndf*4, ndf*8, stride=1),\n",
    "            nn.Conv2D(ndf*8, 1, kernel_size=3, stride=1, padding=1),\n",
    "            nn.Sigmoid()\n",
    "        )\n",
    "\n",
    "    def forward(self, input):\n",
    "        return self.layers(input)\n",
    "\n",
    "\n",
    "class ConvBlock(nn.Layer):\n",
    "    # conv => batch norm => LeakyReLU\n",
    "    def __init__(self, in_dim, out_dim, kernel_size=3, stride=1, padding=1):\n",
    "        super(ConvBlock, self).__init__()\n",
    "        self.layers = nn.Sequential(\n",
    "            nn.Conv2D(in_dim, out_dim, kernel_size, stride, padding),\n",
    "            nn.BatchNorm2D(out_dim), \n",
    "            nn.LeakyReLU(.2),\n",
    "        )\n",
    "\n",
    "    def forward(self, x):\n",
    "        x = self.layers(x)\n",
    "        return x\n",
    "\n",
    "discriminator = NLayerDiscriminator()"
   ]
  },
  {
   "cell_type": "markdown",
   "metadata": {},
   "source": [
    "## 3.测试生成器与判别器的输出\n",
    "\n",
    "完成生成器和判别器的组网后，测试一下两者的输出是否符合我们的预期"
   ]
  },
  {
   "cell_type": "code",
   "execution_count": null,
   "metadata": {},
   "outputs": [],
   "source": [
    "out = generator(paddle.ones([1, 3, 1080, 1920]))\n",
    "print('生成器输出尺寸：', out.shape)  # 应为[1, 3, 1080, 1920]\n",
    "\n",
    "out = discriminator(paddle.ones([1, 6, 1080, 1920]))\n",
    "print('鉴别器输出尺寸：', out.shape)  # 应为[1, 1, 1080, 1920]"
   ]
  },
  {
   "cell_type": "markdown",
   "metadata": {},
   "source": [
    "# 四、模型训练\n",
    "\n",
    "Pix2Pix的优化目标包含2个部分。一部分是cGAN的优化目标。cGAN的优化目标如下所示：\n",
    "\n",
    "$$\n",
    "\\begin{aligned}\n",
    "\\mathcal{L}_{c G A N}(G, D)=& \\mathbb{E}_{x, y}[\\log D(x, y)]+\\\\\n",
    "& \\mathbb{E}_{x, z}[\\log (1-D(x, G(x, z))],\n",
    "\\end{aligned}\n",
    "$$\n",
    "\n",
    "z表示随机噪声，判别器D的优化目标是使得${L}_{c G A N}(G, D)$的值越大越好，而生成器G的优化目标是使得$log(1-D(x,G(x,z))$越小越好。\n",
    "\n",
    "这里需要注意的是正如GAN论文提到的，这样的计算方法在训练时容易出现饱和现象，也就是判别器D很强大，但是生成器G很弱小，导致生成器G基本上训练不起来，因此可以将生成器G的优化目标从最小化$log(1-D(x,G(x,z))$修改为最大化$log(D(x,G(x,z)))$，Pix2Pix算法采用修改后的优化目标。\n",
    "\n",
    "另一部分是L1距离，用来约束生成图像和真实图像之间的差异，这部分借鉴了其他基于GAN做图像翻译的思想，只不过这里用L1而不是L2，目的是减少生成图像的模糊。"
   ]
  },
  {
   "cell_type": "markdown",
   "metadata": {},
   "source": [
    "## 定义优化器"
   ]
  },
  {
   "cell_type": "code",
   "execution_count": null,
   "metadata": {},
   "outputs": [],
   "source": [
    "from paddle.io import DataLoader\n",
    "\n",
    "# 超参数\n",
    "lr = 1e-4\n",
    "BATCH_SIZE = 1\n",
    "EPOCHS = 10\n",
    "schedulerG = paddle.optimizer.lr.CosineAnnealingDecay(learning_rate=lr, T_max=EPOCHS*BATCH_SIZE*8000, verbose=False)\n",
    "schedulerD = paddle.optimizer.lr.CosineAnnealingDecay(learning_rate=lr, T_max=EPOCHS*BATCH_SIZE*8000, verbose=False)\n",
    "\n",
    "# 优化器\n",
    "optimizerG = paddle.optimizer.Adam(\n",
    "    learning_rate=schedulerG,\n",
    "    parameters=generator.parameters(),\n",
    "    beta1=0.5,\n",
    "    beta2=0.999)\n",
    "\n",
    "optimizerD = paddle.optimizer.Adam(\n",
    "    learning_rate=schedulerD,\n",
    "    parameters=discriminator.parameters(), \n",
    "    beta1=0.5,\n",
    "    beta2=0.999)\n",
    "    \n",
    "# 损失函数\n",
    "bce_loss = nn.BCELoss()\n",
    "l1_loss = nn.SmoothL1Loss()\n",
    "\n",
    "# dataloader\n",
    "data_loader_train = DataLoader(\n",
    "    traindataset,\n",
    "    batch_size=BATCH_SIZE,\n",
    "    shuffle=True,\n",
    "    drop_last=False\n",
    "    )\n",
    "\n",
    "data_loader_test = DataLoader(\n",
    "    testdataset,\n",
    "    batch_size=BATCH_SIZE\n",
    "    )"
   ]
  },
  {
   "cell_type": "code",
   "execution_count": null,
   "metadata": {},
   "outputs": [],
   "source": [
    "# 读取用于测试实时训练效果的图片\n",
    "image = cv2.imread('data/VIL100/JPEGImages/0_Road001_Trim003_frames/00000.jpg')\n",
    "label = cv2.imread('data/VIL100/Annotations/0_Road001_Trim003_frames/00000.png')\n",
    "\n",
    "g_input = image.astype('float32') / 127.5 - 1             # 归一化\n",
    "g_input = g_input[np.newaxis, ...].transpose(0, 3, 1, 2)  # NHWC -> NCHW\n",
    "g_input = paddle.to_tensor(g_input)                       # numpy -> tensor"
   ]
  },
  {
   "cell_type": "markdown",
   "metadata": {},
   "source": [
    "## 开始训练"
   ]
  },
  {
   "cell_type": "code",
   "execution_count": null,
   "metadata": {},
   "outputs": [],
   "source": [
    "import os\n",
    "\n",
    "results_save_path = 'work/results'\n",
    "os.makedirs(results_save_path, exist_ok=True)  # 保存每个epoch的测试结果\n",
    "\n",
    "weights_save_path = 'work/weights'\n",
    "os.makedirs(weights_save_path, exist_ok=True)  # 保存模型\n",
    "\n",
    "for epoch in range(EPOCHS):\n",
    "    num = 0\n",
    "    for data in data_loader_train:\n",
    "        num += 1\n",
    "        real_A, real_B = data\n",
    "        optimizerD.clear_grad()\n",
    "        # D([real_A, real_B])\n",
    "        real_AB = paddle.concat((real_A, real_B), 1)\n",
    "        d_real_predict = discriminator(real_AB)\n",
    "        d_real_loss = bce_loss(d_real_predict, paddle.ones_like(d_real_predict))\n",
    "\n",
    "        # D([real_A, fake_B])\n",
    "        fake_B = generator(real_A.detach())\n",
    "        fake_AB = paddle.concat((real_A, fake_B), 1)\n",
    "        d_fake_predict = discriminator(fake_AB)\n",
    "        d_fake_loss = bce_loss(d_fake_predict, paddle.zeros_like(d_real_predict))\n",
    "        \n",
    "        # train D\n",
    "        d_loss = (d_real_loss + d_fake_loss) / 2.\n",
    "        d_loss.backward()\n",
    "        optimizerD.step()\n",
    "\n",
    "        optimizerG.clear_grad()\n",
    "        # D([real_A, fake_B])\n",
    "        fake_B = generator(real_A)\n",
    "        fake_AB = paddle.concat((real_A, fake_B), 1)\n",
    "        g_fake_predict = discriminator(fake_AB)\n",
    "        g_bce_loss = bce_loss(g_fake_predict, paddle.ones_like(d_real_predict))\n",
    "        g_l1_loss = l1_loss(real_B, fake_B)\n",
    "        g_loss = g_bce_loss + g_l1_loss * 100.\n",
    "        \n",
    "        # train G\n",
    "        g_loss.backward()\n",
    "        optimizerG.step()\n",
    "\n",
    "        if num % 200 == 0:\n",
    "            # 查看训练效果\n",
    "            g_output = generator(g_input)\n",
    "            g_output = g_output.detach().numpy()                      # tensor -> numpy\n",
    "            g_output = g_output.transpose(0, 2, 3, 1)[0]              # NCHW -> NHWC\n",
    "            g_output = g_output * 127.5 + 127.5                       # 反归一化\n",
    "            g_output = g_output.astype(np.uint8)\n",
    "\n",
    "            img_show = np.hstack([image, g_output, label])[:,:,::-1]\n",
    "            cv2.imwrite(os.path.join(results_save_path, 'epoch'+str(epoch+1).zfill(3)+ '_' + str(num).zfill(3)+'.png'), img_show)\n",
    "\n",
    "            print(f'Epoch [{epoch+1}/{EPOCHS}] Loss D: {d_loss.numpy()}, Loss G: {g_loss.numpy()}')\n",
    "\n",
    "    if (epoch+1) % 1 == 0:\n",
    "        paddle.save(generator.state_dict(), os.path.join(weights_save_path, 'epoch'+str(epoch+1).zfill(3)+'.pdparams'))"
   ]
  },
  {
   "cell_type": "markdown",
   "metadata": {},
   "source": [
    "部分输出结果如下所示：\n",
    "```\n",
    "Epoch [9/10] Loss D: [0.00078643], Loss G: [280.1502]\n",
    "Epoch [9/10] Loss D: [0.00098845], Loss G: [148.82457]\n",
    "Epoch [9/10] Loss D: [0.00126031], Loss G: [86.36062]\n",
    "Epoch [9/10] Loss D: [0.00081538], Loss G: [275.2824]\n",
    "Epoch [9/10] Loss D: [0.00070759], Loss G: [173.00641]\n",
    "Epoch [9/10] Loss D: [0.00073985], Loss G: [227.09679]\n",
    "Epoch [9/10] Loss D: [0.00076476], Loss G: [381.15402]\n",
    "Epoch [9/10] Loss D: [2.8043735], Loss G: [4.8939624]\n",
    "Epoch [9/10] Loss D: [0.00117071], Loss G: [85.810814]\n",
    "```"
   ]
  },
  {
   "cell_type": "markdown",
   "metadata": {},
   "source": [
    "## 可视化训练过程\n",
    "\n",
    "<iframe style=\"width:98%;height: 450px;\" src=\"//player.bilibili.com/player.html?aid=294043281&bvid=BV13F411Y7jh&cid=438422972&page=1\" scrolling=\"no\" border=\"0\" frameborder=\"no\" framespacing=\"0\" allowfullscreen=\"true\"> </iframe>\n",
    "\n",
    "b站视频链接：[https://www.bilibili.com/video/BV13F411Y7jh/](https://www.bilibili.com/video/BV13F411Y7jh/)"
   ]
  },
  {
   "cell_type": "markdown",
   "metadata": {},
   "source": [
    "# 五、效果展示"
   ]
  },
  {
   "cell_type": "code",
   "execution_count": null,
   "metadata": {},
   "outputs": [],
   "source": [
    "# 为生成器加载权重\n",
    "last_weights_path = os.path.join(weights_save_path, sorted(os.listdir(weights_save_path))[-1])\n",
    "print('加载权重:', last_weights_path)\n",
    "\n",
    "model_state_dict = paddle.load(last_weights_path)\n",
    "generator.load_dict(model_state_dict)\n",
    "generator.eval()"
   ]
  },
  {
   "cell_type": "code",
   "execution_count": null,
   "metadata": {},
   "outputs": [],
   "source": [
    "# 读取数据\n",
    "image = cv2.imread('data/VIL100/JPEGImages/0_Road015_Trim008_frames/00000.jpg')\n",
    "\n",
    "g_input = image.astype('float32') / 127.5 - 1             # 归一化\n",
    "g_input = g_input[np.newaxis, ...].transpose(0, 3, 1, 2)  # NHWC -> NCHW\n",
    "g_input = paddle.to_tensor(g_input)                       # numpy -> tensor\n",
    "\n",
    "g_output = generator(g_input)\n",
    "g_output = g_output.detach().numpy()                      # tensor -> numpy\n",
    "g_output = g_output.transpose(0, 2, 3, 1)[0]              # NCHW -> NHWC\n",
    "g_output = g_output * 127.5 + 127.5                       # 反归一化\n",
    "g_output = g_output.astype(np.uint8)\n",
    "\n",
    "img_show = np.hstack([image, g_output])[:,:,::-1]\n",
    "plt.figure(figsize=(10, 10))\n",
    "plt.imshow(img_show)\n",
    "plt.show()"
   ]
  },
  {
   "cell_type": "markdown",
   "metadata": {},
   "source": [
    "# 六、总结与升华\n",
    "\n",
    "本项目基于经典的生成式对抗神经网络Pix2Pix实现了车道线检测任务，与以往基于分割的车道线检测不同，基于GAN方法的车道线检测不仅能识别出表观上的车道线，还能识别出语义上的车道线。"
   ]
  },
  {
   "cell_type": "markdown",
   "metadata": {},
   "source": [
    "# 作者简介\n",
    "\n",
    "> 北京联合大学 机器人学院 自动化专业 2018级 本科生 郑博培\n",
    "\n",
    "> 中国科学院自动化研究所复杂系统管理与控制国家重点实验室实习生\n",
    "\n",
    "> 百度飞桨开发者技术专家 PPDE\n",
    "\n",
    "> 百度飞桨北京领航团团长\n",
    "\n",
    "> 百度飞桨官方帮帮团、答疑团成员\n",
    "\n",
    "> 深圳柴火创客空间 认证会员\n",
    "\n",
    "> 百度大脑 智能对话训练师\n",
    "\n",
    "> 阿里云人工智能、DevOps助理工程师\n",
    "\n",
    "我在AI Studio上获得至尊等级，点亮10个徽章，来互关呀！！！<br>\n",
    "[https://aistudio.baidu.com/aistudio/personalcenter/thirdview/147378](https://aistudio.baidu.com/aistudio/personalcenter/thirdview/147378)\n",
    "\n",
    "![](https://ai-studio-static-online.cdn.bcebos.com/187d359bec3349c5a5e581bea14a4d2fb121952a86c342aea0eca063ed17b9a1)\n"
   ]
  },
  {
   "cell_type": "code",
   "execution_count": null,
   "metadata": {},
   "outputs": [],
   "source": []
  },
  {
   "cell_type": "markdown",
   "metadata": {},
   "source": []
  },
  {
   "cell_type": "code",
   "execution_count": null,
   "metadata": {},
   "outputs": [],
   "source": []
  }
 ],
 "metadata": {
  "kernelspec": {
   "display_name": "PyCharm (pyjupyter)",
   "language": "python",
   "name": "pycharm-a40b46c7"
  },
  "language_info": {
   "codemirror_mode": {
    "name": "ipython",
    "version": 3
   },
   "file_extension": ".py",
   "mimetype": "text/x-python",
   "name": "python",
   "nbconvert_exporter": "python",
   "pygments_lexer": "ipython3",
   "version": "3.8.8"
  }
 },
 "nbformat": 4,
 "nbformat_minor": 1
}
